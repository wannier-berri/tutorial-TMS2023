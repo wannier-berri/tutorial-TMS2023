{
 "cells": [
  {
   "cell_type": "markdown",
   "id": "d9f8bd47",
   "metadata": {},
   "source": [
    "# K.P model for Weyl fermions\n",
    "\n",
    "In this tutorial we wil investigate the properties of a Weyl Hamiltonian"
   ]
  },
  {
   "cell_type": "markdown",
   "id": "9f673bc5",
   "metadata": {},
   "source": [
    "# First, import needed modules"
   ]
  },
  {
   "cell_type": "code",
   "execution_count": null,
   "id": "f1483600",
   "metadata": {},
   "outputs": [],
   "source": [
    "# So, first import the necessary modules\n",
    "\n",
    "import wannierberri as wberri\n",
    "print (f\"Using WannierBerri version {wberri.__version__}\")\n",
    "import pythtb\n",
    "import numpy as np\n",
    "import matplotlib.pyplot as plt"
   ]
  },
  {
   "cell_type": "markdown",
   "id": "6af7bf7a",
   "metadata": {},
   "source": [
    "## Define Parallel environment"
   ]
  },
  {
   "cell_type": "code",
   "execution_count": null,
   "id": "a69df89d",
   "metadata": {},
   "outputs": [],
   "source": [
    "#  This block is needed if you run this cell for a second time\n",
    "#  because one cannot initiate two parallel environments at a time\n",
    "try:\n",
    "    parallel.shutdown()\n",
    "except NameError:\n",
    "    pass\n",
    "\n",
    "# Chiose one of the options:\n",
    "\n",
    "#parallel = wberri.Parallel(num_cpus=2)\n",
    "#parallel = wberri.Parallel()  # automatic detection\n",
    "parallel = wberri.Serial()"
   ]
  },
  {
   "cell_type": "markdown",
   "id": "f9704439",
   "metadata": {},
   "source": [
    "## Free-electron k.p model\n",
    "\n",
    "For simplicity, it is a 1-band free-electron"
   ]
  },
  {
   "cell_type": "code",
   "execution_count": null,
   "id": "9323b0f5",
   "metadata": {},
   "outputs": [],
   "source": [
    "# hamiltonian takes k-vector in reciprocal angstroms and gives hamiltonian in eV\n",
    "mass = 1.5   # in units Ang^2/eV\n",
    "def ham(k):\n",
    "    return np.array([[np.dot(k,k)/(2*mass)]])\n",
    "# k.p model is bounded to a box of size 2*kmax\n",
    "system_kp = wberri.system.SystemKP(Ham=ham, kmax=2)"
   ]
  },
  {
   "cell_type": "code",
   "execution_count": null,
   "id": "d5920e7d",
   "metadata": {},
   "outputs": [],
   "source": [
    "path=wberri.Path(system_kp,\n",
    "                 k_nodes=[\n",
    "        [0.0000, 0.0000, 0.0000 ],   #  G\n",
    "        [1.0 ,1.0, 1.0],   #  G\n",
    "        [0.0, 1.0, 1.0],   #  G\n",
    "        [0.0,1.0,0.0]   #  G\n",
    "                 ] ,\n",
    "                 labels=[\"G0\",\"G111\",\"G011\",\"G010\"],\n",
    "                 length=200 )   # length [ Ang] ~= 2*pi/dk\n",
    "\n",
    "tabulators = { \"Energy\": wberri.calculators.tabulate.Energy(),\n",
    "             }\n",
    "\n",
    "tab_all_path = wberri.calculators.TabulatorAll(\n",
    "                    tabulators,\n",
    "                    # ibands = np.arange(0,18),\n",
    "                    mode = \"path\"\n",
    "                        )"
   ]
  },
  {
   "cell_type": "code",
   "execution_count": null,
   "id": "3452b3fb",
   "metadata": {},
   "outputs": [],
   "source": [
    "result=wberri.run(system_kp,\n",
    "                  grid=path,\n",
    "                  calculators = {\"tabulate\" : tab_all_path},\n",
    "                  parallel = parallel,\n",
    "                  print_Kpoints = False)\n",
    "\n",
    "print (result.results)\n",
    "path_result = result.results[\"tabulate\"]"
   ]
  },
  {
   "cell_type": "markdown",
   "id": "5eabffff",
   "metadata": {},
   "source": [
    "## Plot bands\n",
    "\n",
    "The `TABresult` object already provides methods to plot the results. (As well as one can extract the data and plot them by other means). Below let’s plot the interpolated bands and compare with those obtained in QE. (file “bands/Fe_bands_pw.dat” is already provided)"
   ]
  },
  {
   "cell_type": "code",
   "execution_count": null,
   "id": "269d6c51",
   "metadata": {},
   "outputs": [],
   "source": [
    "path_result = result.results[\"tabulate\"]\n",
    "\n",
    "plt.close()\n",
    "path_result.plot_path_fat( path,\n",
    "              quantity=None,\n",
    "#              Eshift=EF,\n",
    "              Emin=-2,  Emax=5,\n",
    "              iband=None,\n",
    "              mode=\"fatband\",\n",
    "              fatfactor=20,\n",
    "              cut_k=False,\n",
    "              close_fig=False,\n",
    "              show_fig=False,\n",
    "              label = \"WB\"\n",
    "              )\n",
    "\n",
    "kline = path.getKline()\n",
    "plt.plot(kline,kline**2/(2*mass),\"--\",label=\"k**2/(2*mass)\")\n",
    "\n",
    "plt.legend()\n",
    "plt.show()\n",
    "plt.close()"
   ]
  },
  {
   "cell_type": "code",
   "execution_count": null,
   "id": "2e4dc860",
   "metadata": {},
   "outputs": [],
   "source": [
    "Efermi = np.linspace(-1,2,201)\n",
    "calculators = {\"dos\":wberri.calculators.static.DOS(\n",
    "                    Efermi=Efermi, # Fermi levels to scan\n",
    "                    tetra=True  # use tetahedron integration method\n",
    "                        )}\n",
    "grid = wberri.Grid(system_kp, NK=20, NKFFT=10 )\n",
    "result_run = wberri.run(system_kp,\n",
    "            grid=grid,\n",
    "            calculators = calculators,\n",
    "            parallel=parallel,\n",
    "            adpt_num_iter=0,\n",
    "            fout_name='kp',\n",
    "            restart=False,\n",
    "            #print_Kpoints=False\n",
    "            #file_Klist=\"Klist_ahc.pickle\"  # needed to restart a calculation in future\n",
    "            )"
   ]
  },
  {
   "cell_type": "markdown",
   "id": "9250aa92",
   "metadata": {},
   "source": [
    "# Plot the DOS and compare with the analytical value\n",
    "For free-electron energies\n",
    "$$\\varepsilon(k)=\\frac{k^2}{2m}$$\n",
    "The DOS can be evaluated analytically\n",
    "$${\\rm DOS}(E_F) = \\int \\frac{d^3k}{(2\\pi)^3} \\delta(E-\\varepsilon(k)) = \\frac{4\\pi}{(2\\pi)^3}\\int k^2 dk \\delta(E-k^2/(2m)) = \\frac{1}{2\\pi^2} \\int dk k\\delta(k-\\sqrt{2mE_F}) = \\frac{\\sqrt{2mE_F}}{2\\pi^2}$$"
   ]
  },
  {
   "cell_type": "code",
   "execution_count": null,
   "id": "9ba3085c",
   "metadata": {},
   "outputs": [],
   "source": [
    "dos = result_run.results[\"dos\"].data\n",
    "plt.plot(Efermi,dos)\n",
    "plt.ylim(0,1)\n",
    "\n",
    "Efpos=Efermi[Efermi>0.01]\n",
    "\n",
    "dos_prec = np.sqrt(2*mass*Efpos)*system_kp.cell_volume*mass/(2*np.pi**2)\n",
    "\n",
    "plt.plot(Efpos,dos_prec,\"--\")\n"
   ]
  },
  {
   "cell_type": "markdown",
   "id": "7eea53d8",
   "metadata": {},
   "source": [
    "# Now, the Weyl Hamiltonian"
   ]
  },
  {
   "cell_type": "code",
   "execution_count": null,
   "id": "634c6b4b",
   "metadata": {},
   "outputs": [],
   "source": [
    "sigma_x = np.array([[ 0, 1],\n",
    "                    [1, 0]])\n",
    "sigma_y = np.array([[ 0, -1j],\n",
    "                    [1j, 0]])\n",
    "sigma_z = np.array([[-1, 0],\n",
    "                    [ 0, 1]])\n",
    "\n",
    "v=2 # in units eV*Ang\n",
    "vx=v\n",
    "vy=v\n",
    "vz=v\n",
    "\n",
    "\n",
    "def Ham_Weyl(k):\n",
    "    return vx*k[0]*sigma_x + vy*k[1]*sigma_y + vz*k[2]*sigma_z\n",
    "\n",
    "kmax_weyl=0.2\n",
    "system_weyl = wberri.system.SystemKP(Ham=Ham_Weyl, kmax=kmax_weyl)\n",
    "system_weyl.set_symmetry([\"C4x\",\"C4y\",\"C4z\",\"TimeReversal\"])"
   ]
  },
  {
   "cell_type": "code",
   "execution_count": null,
   "id": "5b4662bf",
   "metadata": {},
   "outputs": [],
   "source": [
    "direction = np.array([0,0.0,0.1])/(2*kmax_weyl)  # Note, that k-points are given to path in reciprocal coordinates\n",
    "path=wberri.Path(system_weyl,\n",
    "                 k_nodes=[\n",
    "        -direction,   #  \n",
    "        [0 ,0, 0],   #  \n",
    "        direction,   #  \n",
    "                 ] ,\n",
    "                 labels=[\"-kz\",\"0\",\"+kz\"],\n",
    "                 nk=20 )  \n",
    "\n",
    "tabulators = { \"Energy\": wberri.calculators.tabulate.Energy(),\n",
    "               \"berry\": wberri.calculators.tabulate.BerryCurvature(kwargs_formula={\"external_terms\":False}),\n",
    "             }\n",
    "\n",
    "tab_all_path = wberri.calculators.TabulatorAll(\n",
    "                    tabulators,\n",
    "                    # ibands = np.arange(0,18),\n",
    "                    mode = \"path\"\n",
    "                        )\n",
    "\n",
    "result=wberri.run(system_weyl,\n",
    "                  grid=path,\n",
    "                  calculators = {\"tabulate\" : tab_all_path},\n",
    "                  parallel = parallel,\n",
    "                  print_Kpoints = False)\n",
    "\n",
    "print (result.results)\n",
    "path_result = result.results[\"tabulate\"]"
   ]
  },
  {
   "cell_type": "code",
   "execution_count": null,
   "id": "2e4cdba5",
   "metadata": {},
   "outputs": [],
   "source": [
    "for component in \"xyz\":\n",
    "    path_result.plot_path_fat( path,\n",
    "              quantity=\"berry\",\n",
    "                component=component,\n",
    "        #save_file=\"Fe_bands+QE.pdf\",\n",
    "#              Eshift=EF,\n",
    "     #         Emin=-0.05,  Emax=0.05,\n",
    "              iband=None,\n",
    "              mode=\"fatband\",\n",
    "              fatfactor=30,\n",
    "              cut_k=False,\n",
    "              close_fig=True,\n",
    "              show_fig=True,\n",
    "              label = \"berry_\"+component\n",
    "              )"
   ]
  },
  {
   "cell_type": "code",
   "execution_count": null,
   "id": "ba5074bd-9bc8-4671-89bf-59eebc2836e1",
   "metadata": {},
   "outputs": [],
   "source": [
    "berry_curv = path_result.get_data(\"berry\",iband=(0,1))\n",
    "kline = path.getKline()\n",
    "kline-=kline.mean()\n",
    "#berry_curv.shape\n",
    "plt.scatter(kline,berry_curv[:,0,2],label=\"lower bandberry_z\")\n",
    "plt.scatter(kline,berry_curv[:,1,2],label=\"pper bandberry_z\")\n",
    "plt.plot(kline,0.5/kline**2,\"--\",label=r\"1/(2$k^2$)\")\n",
    "plt.plot(kline,-0.5/kline**2,\"--\",label=r\"-1/(2$k^2)$\")\n",
    "\n",
    "plt.ylim(-5000,5000)\n",
    "plt.legend()"
   ]
  },
  {
   "cell_type": "code",
   "execution_count": null,
   "id": "05822bd6",
   "metadata": {},
   "outputs": [],
   "source": [
    "Efermi_Weyl = np.linspace(-0.1,0.1,201)\n",
    "Efermi=Efermi_Weyl\n",
    "calculators = {\n",
    "               \"dos\":wberri.calculators.static.DOS(Efermi=Efermi,tetra=True),\n",
    "               \"berry_dipole_surf\":wberri.calculators.static.BerryDipole_FermiSurf(Efermi=Efermi,tetra=True,kwargs_formula={\"external_terms\":False}),\n",
    "               #\"berry_dipole_sea\":wberri.calculators.static.BerryDipole_FermiSea(Efermi=Efermi,tetra=True,kwargs_formula={\"external_terms\":False})\n",
    "}\n",
    "\n",
    "system_weyl.set_symmetry([\"C4x\",\"C4y\",\"C4z\",\"TimeReversal\"])\n",
    "\n",
    "result={}\n",
    "for NK in 20,30,40:\n",
    "    grid = wberri.Grid(system_weyl, NK=NK, NKFFT=5 )\n",
    "    result[NK] = wberri.run(system_weyl,\n",
    "            grid=grid,\n",
    "            calculators = calculators,\n",
    "            parallel=parallel,\n",
    "             adpt_num_iter=20,\n",
    "            fout_name='Weyl',\n",
    "            )\n",
    "    BD = result[NK].results[\"berry_dipole_surf\"].data\n",
    "    plt.plot(Efermi,BD[:,2,2]*3,\".\",label = f\"NK={NK}\")\n",
    "    plt.legend()\n"
   ]
  },
  {
   "cell_type": "code",
   "execution_count": null,
   "id": "29b1a8cb",
   "metadata": {},
   "outputs": [],
   "source": [
    "for NK in 20,30,40:\n",
    "    BD = result[NK].results[\"berry_dipole_surf\"].data\n",
    "    BD_trace=BD[:,0,0]+BD[:,1,1]+BD[:,2,2]\n",
    "    plt.plot(Efermi,BD_trace,\".\",label = f\"NK={NK}\")\n",
    "    plt.hlines(1/(4*np.pi**2),xmin=-0.1,xmax=0.1)\n",
    "    plt.legend()"
   ]
  },
  {
   "cell_type": "code",
   "execution_count": null,
   "id": "5009cfc4",
   "metadata": {},
   "outputs": [],
   "source": [
    "plt.close()\n",
    "ahc = result_run.results[\"ahc\"].data[:,2]\n",
    "plt.plot(Efermi,ahc)"
   ]
  },
  {
   "cell_type": "code",
   "execution_count": null,
   "id": "c74c8736",
   "metadata": {},
   "outputs": [],
   "source": [
    "# The 2D conductance in the gap is \n",
    "ahc[Efermi_haldane==0]*system_haldane.real_lattice[2,2]*1e-10"
   ]
  },
  {
   "cell_type": "code",
   "execution_count": null,
   "id": "73e9da6e",
   "metadata": {},
   "outputs": [],
   "source": [
    "# This is precisely half of conductance quantum\n",
    "from scipy.constants import physical_constants as pc\n",
    "[k for k in pc.keys() if \"conduc\" in k]\n",
    "pc['conductance quantum']\n",
    "pc['conductance quantum'][0]/2\n"
   ]
  },
  {
   "attachments": {
    "60cf2d7c-8ef9-419e-a21b-4203a32adbb1.png": {
     "image/png": "[encoded data removed]"
    }
   },
   "cell_type": "markdown",
   "id": "942a6ff5-f99b-44d8-8b1d-6c28c02771ca",
   "metadata": {},
   "source": [
    "# Quantized circular photogavlanic efect\n",
    "\n",
    "https://www.nature.com/articles/ncomms15995\n",
    "\n",
    "![image.png](attachment:60cf2d7c-8ef9-419e-a21b-4203a32adbb1.png)"
   ]
  },
  {
   "cell_type": "code",
   "execution_count": null,
   "id": "04be0fff-aa63-4002-9a70-583e6a7b68b5",
   "metadata": {},
   "outputs": [],
   "source": [
    "from  wannierberri.symmetry import transform_ident, transform_odd\n",
    "from wannierberri.calculators.dynamic import DynamicCalculator\n",
    "\n",
    "class CPGE_Formula():\n",
    "    \"\"\"\n",
    "    Eq. (10) of Lihm and Park, PRB 105, 045201 (2022)\n",
    "    Use v_mn = i * r_mn * (e_m - e_n) / hbar to replace v with r.\n",
    "    \"\"\"\n",
    "\n",
    "    def __init__(self, data_K,external_terms=True):\n",
    "        if external_terms:\n",
    "            A_H = data_K.A_H\n",
    "        else:\n",
    "            A_H = data_K.A_H_internal\n",
    "        V_H = data_K.Xbar('Ham', 1) # (k, m, n, a)\n",
    "        V_H_diag = np.diagonal(V_H, axis1=1, axis2=2).transpose(0, 2, 1) # (k, m, a)\n",
    "\n",
    "        # compute delta_V[k, m, n, a] = V_H[k, m, m, a] - V_H[k, n, n, a]\n",
    "        delta_V = V_H_diag[:, :, None, :] - V_H_diag[:, None, :, :] # (k, m, n, a)\n",
    "\n",
    "        Imn_abc = np.einsum('kmna,kmnb,knmc->kmnabc', delta_V, A_H, A_H)\n",
    "        Imn = Imn_abc[:,:,:,:,[1,2,0],[2,0,1]]-Imn_abc[:,:,:,:,[2,0,1],[1,2,0]]\n",
    "      #  print (\"trImn=\",sum([Imn[:,:,:,i,i].imag for i in (0,1,2)]))\n",
    "      #  print (\"deltaV=\",np.linalg.norm(delta_V,axis=3))\n",
    "      #  Imn=\n",
    "        self.Imn = sum([Imn[:,:,:,i,i] for i in (0,1,2)])\n",
    "        self.ndim = 1j\n",
    "\n",
    "    def trace_ln(self, ik, inn1, inn2):\n",
    "        return self.Imn[ik, inn1].sum(axis=0)[inn2].sum(axis=0)\n",
    "\n",
    "\n",
    "class CPGE(DynamicCalculator):\n",
    "\n",
    "    def __init__(self, **kwargs):\n",
    "        super().__init__(**kwargs)\n",
    "        self.Formula = CPGE_Formula\n",
    "        self.transformTR  = transform_ident\n",
    "        self.transformInv = transform_odd\n",
    "        self.constant_factor = 1\n",
    "\n",
    "\n",
    "    def factor_omega(self, E1, E2):\n",
    "        delta_arg_12 = E1 - E2 - self.omega  # argument of delta function [iw, n, m]\n",
    "        return self.smear(delta_arg_12)"
   ]
  },
  {
   "cell_type": "code",
   "execution_count": null,
   "id": "9db7e926-15cf-46a8-8326-6edf2199f774",
   "metadata": {},
   "outputs": [],
   "source": [
    "Efermi_Weyl = np.array([0.025])\n",
    "omega = np.linspace(0,0.1,100)\n",
    "Efermi=Efermi_Weyl\n",
    "calculators = {\n",
    "           #    \"dos\":wberri.calculators.static.DOS(Efermi=Efermi,tetra=True),\n",
    "            #   \"berry_dipole_surf\":wberri.calculators.static.BerryDipole_FermiSurf(Efermi=Efermi,tetra=True,kwargs_formula={\"external_terms\":False}),\n",
    "               #\"berry_dipole_sea\":wberri.calculators.static.BerryDipole_FermiSea(Efermi=Efermi,tetra=True,kwargs_formula={\"external_terms\":False})\n",
    "         \"cpge\": CPGE(Efermi=Efermi,omega=omega,smr_fixed_width=0.01, smr_type='Gaussian',kwargs_formula={\"external_terms\":False})\n",
    "}\n",
    "\n",
    "result={}\n",
    "for NK in 10,20,40,60,80:\n",
    "    grid = wberri.Grid(system_weyl, NK=NK, NKFFT=10 )\n",
    "    result[NK] = wberri.run(system_weyl,\n",
    "            grid=grid,\n",
    "            calculators = calculators,\n",
    "            parallel=parallel,\n",
    "            adpt_num_iter=0,\n",
    "            fout_name='Weyl',\n",
    "            )\n",
    "    #BD = result[NK].results[\"cpge\"].data\n",
    "    #plt.plot(Efermi,BD[:,2,2]*3,\".\",label = f\"NK={NK}\")\n",
    "    #plt.legend()"
   ]
  },
  {
   "cell_type": "code",
   "execution_count": null,
   "id": "f9a27153-4d06-42ab-9e71-aeda68a04a29",
   "metadata": {},
   "outputs": [],
   "source": [
    "for NK in result.keys():\n",
    "    cpge = result[NK].results[\"cpge\"].data\n",
    "    plt.plot(omega,cpge[0,:],\".\",label = f\"NK={NK}\")\n",
    "plt.plot(omega,-np.ones(omega.shape)/(4*np.pi**2))\n",
    "plt.legend()"
   ]
  },
  {
   "cell_type": "code",
   "execution_count": null,
   "id": "945d077d-f7b2-4283-8001-b6a79e5342ca",
   "metadata": {},
   "outputs": [],
   "source": [
    "Efermi"
   ]
  },
  {
   "cell_type": "code",
   "execution_count": null,
   "id": "201f2c38-3c34-4ec4-98eb-13ada3278253",
   "metadata": {},
   "outputs": [],
   "source": []
  }
 ],
 "metadata": {
  "kernelspec": {
   "display_name": "Python 3 (ipykernel)",
   "language": "python",
   "name": "python3"
  },
  "language_info": {
   "codemirror_mode": {
    "name": "ipython",
    "version": 3
   },
   "file_extension": ".py",
   "mimetype": "text/x-python",
   "name": "python",
   "nbconvert_exporter": "python",
   "pygments_lexer": "ipython3",
   "version": "3.10.12"
  }
 },
 "nbformat": 4,
 "nbformat_minor": 5
}
