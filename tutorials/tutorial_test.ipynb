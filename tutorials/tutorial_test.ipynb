{
 "cells": [
  {
   "cell_type": "markdown",
   "id": "d9f8bd47",
   "metadata": {},
   "source": [
    "# Check your installation\n",
    "\n",
    "The purpose of this tutorial is to make sure that you installed everything that is needed and the WannierBerri runs smoothly on your computer. If you run all the cells without errors, you are good to go (even if you do not understand what is going on)"
   ]
  },
  {
   "cell_type": "markdown",
   "id": "9f673bc5",
   "metadata": {},
   "source": [
    "# First, import needed modules"
   ]
  },
  {
   "cell_type": "code",
   "execution_count": null,
   "id": "f1483600",
   "metadata": {},
   "outputs": [],
   "source": [
    "# So, first import the necessary modules\n",
    "\n",
    "import wannierberri as wberri\n",
    "print (f\"Using WannierBerri version {wberri.__version__}\")\n",
    "import pythtb\n",
    "import numpy as np\n",
    "import matplotlib.pyplot as plt"
   ]
  },
  {
   "cell_type": "markdown",
   "id": "6af7bf7a",
   "metadata": {},
   "source": [
    "## check parallel installation"
   ]
  },
  {
   "cell_type": "code",
   "execution_count": null,
   "id": "a69df89d",
   "metadata": {},
   "outputs": [],
   "source": [
    "#  This block is needed if you run this cell for a second time\n",
    "#  because one cannot initiate two parallel environments at a time\n",
    "try:\n",
    "    parallel.shutdown()\n",
    "except NameError:\n",
    "    pass\n",
    "\n",
    "# Chiose one of the options:\n",
    "\n",
    "parallel = wberri.Parallel(num_cpus=2)\n",
    "#parallel = wberri.Parallel()  # automatic detection\n",
    "#parallel = wberri.Serial()"
   ]
  },
  {
   "cell_type": "markdown",
   "id": "f9704439",
   "metadata": {},
   "source": [
    "## Good. Now let's create a k.p model.\n",
    "\n",
    "For simplicity, it is a 1-band free-electron"
   ]
  },
  {
   "cell_type": "code",
   "execution_count": null,
   "id": "9323b0f5",
   "metadata": {},
   "outputs": [],
   "source": [
    "# hamiltonian takes k-vector in reciprocal angstroms and gives hamiltonian in eV\n",
    "mass = 1.5\n",
    "def ham(k):\n",
    "    return np.array([[np.dot(k,k)/(2*mass)]])\n",
    "# k.p model is bounded to a box of size 2*kmax\n",
    "system_kp = wberri.system.SystemKP(Ham=ham, kmax=2)"
   ]
  },
  {
   "cell_type": "code",
   "execution_count": null,
   "id": "d5920e7d",
   "metadata": {},
   "outputs": [],
   "source": [
    "path=wberri.Path(system_kp,\n",
    "                 k_nodes=[\n",
    "        [0.0000, 0.0000, 0.0000 ],   #  G\n",
    "        [1.0 ,1.0, 1.0],   #  G\n",
    "        [0.0, 1.0, 1.0],   #  G\n",
    "        [0.0,1.0,0.0]   #  G\n",
    "                 ] ,\n",
    "                 #labels=[\"G0\",\"G111\",\"G011\",\"G010\"],\n",
    "                 length=200 )   # length [ Ang] ~= 2*pi/dk\n",
    "\n",
    "tabulators = { \"Energy\": wberri.calculators.tabulate.Energy(),\n",
    "             }\n",
    "\n",
    "tab_all_path = wberri.calculators.TabulatorAll(\n",
    "                    tabulators,\n",
    "                    # ibands = np.arange(0,18),\n",
    "                    mode = \"path\"\n",
    "                        )"
   ]
  },
  {
   "cell_type": "code",
   "execution_count": null,
   "id": "3452b3fb",
   "metadata": {},
   "outputs": [],
   "source": [
    "result=wberri.run(system_kp,\n",
    "                  grid=path,\n",
    "                  calculators = {\"tabulate\" : tab_all_path},\n",
    "                  parallel = parallel,\n",
    "                  print_Kpoints = False)\n",
    "\n",
    "print (result.results)\n",
    "path_result = result.results[\"tabulate\"]"
   ]
  },
  {
   "cell_type": "markdown",
   "id": "5eabffff",
   "metadata": {},
   "source": [
    "## Plot bands\n",
    "\n",
    "The `TABresult` object already provides methods to plot the results. (As well as one can extract the data and plot them by other means). Below let’s plot the interpolated bands and compare with those obtained in QE. (file “bands/Fe_bands_pw.dat” is already provided)"
   ]
  },
  {
   "cell_type": "code",
   "execution_count": null,
   "id": "269d6c51",
   "metadata": {},
   "outputs": [],
   "source": [
    "path_result = result.results[\"tabulate\"]\n",
    "\n",
    "plt.close()\n",
    "path_result.plot_path_fat( path,\n",
    "              quantity=None,\n",
    "#              Eshift=EF,\n",
    "              Emin=-2,  Emax=5,\n",
    "              iband=None,\n",
    "              mode=\"fatband\",\n",
    "              fatfactor=20,\n",
    "              cut_k=False,\n",
    "              close_fig=False,\n",
    "              show_fig=False,\n",
    "              label = \"WB\"\n",
    "              )\n",
    "\n",
    "kline = path.getKline()\n",
    "plt.plot(kline,kline**2/(2*mass),\"--\",label=\"k**2/(2*mass)\")\n",
    "\n",
    "plt.legend()\n",
    "plt.show()\n",
    "plt.close()"
   ]
  },
  {
   "cell_type": "code",
   "execution_count": null,
   "id": "2e4dc860",
   "metadata": {},
   "outputs": [],
   "source": [
    "Efermi = np.linspace(-1,2,201)\n",
    "calculators = {\"dos\":wberri.calculators.static.DOS(Efermi=Efermi,tetra=True)}\n",
    "grid = wberri.Grid(system_kp, NK=20, NKFFT=10 )\n",
    "result_run = wberri.run(system_kp,\n",
    "            grid=grid,\n",
    "            calculators = calculators,\n",
    "            parallel=parallel,\n",
    "            adpt_num_iter=0,\n",
    "            fout_name='kp',\n",
    "            restart=False,\n",
    "            #print_Kpoints=False\n",
    "            #file_Klist=\"Klist_ahc.pickle\"  # needed to restart a calculation in future\n",
    "            )"
   ]
  },
  {
   "cell_type": "markdown",
   "id": "9250aa92",
   "metadata": {},
   "source": [
    "# Plot the DOS and compare with the analytical value"
   ]
  },
  {
   "cell_type": "code",
   "execution_count": null,
   "id": "9ba3085c",
   "metadata": {},
   "outputs": [],
   "source": [
    "dos = result_run.results[\"dos\"].data\n",
    "plt.plot(Efermi,dos)\n",
    "plt.ylim(0,1)\n",
    "\n",
    "Efpos=Efermi[Efermi>0.01]\n",
    "\n",
    "dos_prec = np.sqrt(2*mass*Efpos)*system_kp.cell_volume*mass/(2*np.pi**2)\n",
    "\n",
    "plt.plot(Efpos,dos_prec,\"--\")\n"
   ]
  },
  {
   "cell_type": "markdown",
   "id": "7eea53d8",
   "metadata": {},
   "source": [
    "# Now, some tight-binding models"
   ]
  },
  {
   "cell_type": "code",
   "execution_count": null,
   "id": "634c6b4b",
   "metadata": {},
   "outputs": [],
   "source": [
    "def Haldane_ptb(delta=0.2, hop1=-1.0, hop2=0.15, phi=np.pi / 2):\n",
    "    \"\"\"\n",
    "    Defines a Haldane model within `TBmodels <https://tbmodels.greschd.ch>`__\n",
    "\n",
    "    Parameters\n",
    "    -----------\n",
    "    delta : float\n",
    "        difference between the on-site potentials of the two atoms\n",
    "    t : float\n",
    "        nearest-neighbour hopping\n",
    "    hop2 : float\n",
    "        magnitude of next nearest-neighbour hopping\n",
    "    phi : float\n",
    "        phase of next nearest-neighbour hopping\n",
    "\n",
    "    Note:\n",
    "    --------\n",
    "    TBmodels  should be installed to use this (`pip install tbmodels`)\n",
    "    \"\"\"\n",
    "    import pythtb\n",
    "    lat = [[1.0, 0.0], [0.5, np.sqrt(3.0) / 2.0]]\n",
    "    orb = [[1. / 3., 1. / 3.], [2. / 3., 2. / 3.]]\n",
    "\n",
    "    my_model = pythtb.tb_model(2, 2, lat, orb)\n",
    "\n",
    "    delta = 0.2\n",
    "    t2 = hop2 * np.exp(1.j * phi)\n",
    "    t2c = t2.conjugate()\n",
    "\n",
    "    my_model.set_onsite([-delta, delta])\n",
    "    my_model.set_hop(hop1, 0, 1, [0, 0])\n",
    "    my_model.set_hop(hop1, 1, 0, [1, 0])\n",
    "    my_model.set_hop(hop1, 1, 0, [0, 1])\n",
    "    my_model.set_hop(t2, 0, 0, [1, 0])\n",
    "    my_model.set_hop(t2, 1, 1, [1, -1])\n",
    "    my_model.set_hop(t2, 1, 1, [0, 1])\n",
    "    my_model.set_hop(t2c, 1, 1, [1, 0])\n",
    "    my_model.set_hop(t2c, 0, 0, [1, -1])\n",
    "    my_model.set_hop(t2c, 0, 0, [0, 1])\n",
    "\n",
    "    return my_model\n",
    "\n",
    "model = Haldane_ptb(delta=0.2, hop1=-1.0, hop2=0.15, phi=np.pi / 2)\n",
    "system_haldane = wberri.system.System_PythTB(model,use_wcc_phase=True)\n"
   ]
  },
  {
   "cell_type": "code",
   "execution_count": null,
   "id": "5b4662bf",
   "metadata": {},
   "outputs": [],
   "source": [
    "path=wberri.Path(system_haldane,\n",
    "                 k_nodes=[\n",
    "        [0.0000, 0.0000, 0.0000 ],   #  G\n",
    "        [1/3 ,1/3, 0],   #  K\n",
    "        [0.0, 1/2, 0],   #  M\n",
    "        [0.0,0.0,0.0]   #  G\n",
    "                 ] ,\n",
    "                 #labels=[\"G\",\"K\",\"M\",\"G\"],\n",
    "                 length=200 )   # length [ Ang] ~= 2*pi/dk\n",
    "\n",
    "tabulators = { \"Energy\": wberri.calculators.tabulate.Energy(),\n",
    "             }\n",
    "\n",
    "tab_all_path = wberri.calculators.TabulatorAll(\n",
    "                    tabulators,\n",
    "                    # ibands = np.arange(0,18),\n",
    "                    mode = \"path\"\n",
    "                        )\n",
    "\n",
    "result=wberri.run(system_haldane,\n",
    "                  grid=path,\n",
    "                  calculators = {\"tabulate\" : tab_all_path},\n",
    "                  parallel = parallel,\n",
    "                  print_Kpoints = False)\n",
    "\n",
    "path_result = result.results[\"tabulate\"]"
   ]
  },
  {
   "cell_type": "code",
   "execution_count": null,
   "id": "2e4cdba5",
   "metadata": {},
   "outputs": [],
   "source": [
    "path_result.plot_path_fat( path,\n",
    "              quantity=None,\n",
    "        #save_file=\"Fe_bands+QE.pdf\",\n",
    "#              Eshift=EF,\n",
    "#              Emin=-2,  Emax=5,\n",
    "              iband=None,\n",
    "              mode=\"fatband\",\n",
    "              fatfactor=20,\n",
    "              cut_k=False,\n",
    "              close_fig=True,\n",
    "              show_fig=True,\n",
    "              label = \"WB\"\n",
    "              )"
   ]
  },
  {
   "cell_type": "code",
   "execution_count": null,
   "id": "05822bd6",
   "metadata": {},
   "outputs": [],
   "source": [
    "Efermi_haldane = np.linspace(-4,4,201)\n",
    "calculators = {\n",
    "               \"dos\":wberri.calculators.static.DOS(Efermi=Efermi_haldane,tetra=True),\n",
    "               \"ahc\":wberri.calculators.static.AHC(Efermi=Efermi_haldane,tetra=True,kwargs_formula={\"external_terms\":False})\n",
    "}\n",
    "grid = wberri.Grid(system_kp, NK=[20,20,1], NKFFT=[10,10,1] )"
   ]
  },
  {
   "cell_type": "code",
   "execution_count": null,
   "id": "ef0c6009",
   "metadata": {},
   "outputs": [],
   "source": [
    "result_run = wberri.run(system_haldane,\n",
    "            grid=grid,\n",
    "            calculators = calculators,\n",
    "            parallel=parallel,\n",
    "            fout_name='Haldane',\n",
    "            )"
   ]
  },
  {
   "cell_type": "code",
   "execution_count": null,
   "id": "29b1a8cb",
   "metadata": {},
   "outputs": [],
   "source": [
    "plt.close()\n",
    "dos = result_run.results[\"dos\"].data\n",
    "plt.plot(Efermi,dos)\n",
    "\n"
   ]
  },
  {
   "cell_type": "code",
   "execution_count": null,
   "id": "5009cfc4",
   "metadata": {},
   "outputs": [],
   "source": [
    "plt.close()\n",
    "ahc = result_run.results[\"ahc\"].data[:,2]\n",
    "plt.plot(Efermi,ahc)"
   ]
  },
  {
   "cell_type": "code",
   "execution_count": null,
   "id": "c74c8736",
   "metadata": {},
   "outputs": [],
   "source": [
    "# The 2D conductance in the gap is \n",
    "ahc[Efermi_haldane==0]*system_haldane.real_lattice[2,2]*1e-10"
   ]
  },
  {
   "cell_type": "code",
   "execution_count": null,
   "id": "73e9da6e",
   "metadata": {},
   "outputs": [],
   "source": [
    "# This is precisely half of conductance quantum\n",
    "from scipy.constants import physical_constants as pc\n",
    "[k for k in pc.keys() if \"conduc\" in k]\n",
    "pc['conductance quantum']\n",
    "pc['conductance quantum'][0]/2\n"
   ]
  },
  {
   "cell_type": "code",
   "execution_count": null,
   "id": "f4f03dfc",
   "metadata": {},
   "outputs": [],
   "source": []
  }
 ],
 "metadata": {
  "kernelspec": {
   "display_name": "Python 3 (ipykernel)",
   "language": "python",
   "name": "python3"
  },
  "language_info": {
   "codemirror_mode": {
    "name": "ipython",
    "version": 3
   },
   "file_extension": ".py",
   "mimetype": "text/x-python",
   "name": "python",
   "nbconvert_exporter": "python",
   "pygments_lexer": "ipython3",
   "version": "3.9.13"
  }
 },
 "nbformat": 4,
 "nbformat_minor": 5
}
